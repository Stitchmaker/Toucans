{
 "cells": [
  {
   "cell_type": "code",
   "execution_count": null,
   "metadata": {},
   "outputs": [
    {
     "name": "stdout",
     "output_type": "stream",
     "text": [
      "Reading: http://web.mta.info/developers/data/nyct/turnstile/turnstile_180505.txt\n",
      "Reading: http://web.mta.info/developers/data/nyct/turnstile/turnstile_180512.txt\n",
      "Reading: http://web.mta.info/developers/data/nyct/turnstile/turnstile_180519.txt\n",
      "Reading: http://web.mta.info/developers/data/nyct/turnstile/turnstile_180526.txt\n"
     ]
    }
   ],
   "source": [
    "import read_mta_stations as s\n",
    "import read_mta_turnstile as t\n",
    "import read_tech_companies as c\n",
    "import create_station_heatmap as h"
   ]
  },
  {
   "cell_type": "code",
   "execution_count": 5,
   "metadata": {},
   "outputs": [
    {
     "data": {
      "text/html": [
       "<div>\n",
       "<style scoped>\n",
       "    .dataframe tbody tr th:only-of-type {\n",
       "        vertical-align: middle;\n",
       "    }\n",
       "\n",
       "    .dataframe tbody tr th {\n",
       "        vertical-align: top;\n",
       "    }\n",
       "\n",
       "    .dataframe thead th {\n",
       "        text-align: right;\n",
       "    }\n",
       "</style>\n",
       "<table border=\"1\" class=\"dataframe\">\n",
       "  <thead>\n",
       "    <tr style=\"text-align: right;\">\n",
       "      <th></th>\n",
       "      <th>key</th>\n",
       "      <th>name</th>\n",
       "      <th>LINE</th>\n",
       "      <th>lon</th>\n",
       "      <th>lat</th>\n",
       "    </tr>\n",
       "  </thead>\n",
       "  <tbody>\n",
       "    <tr>\n",
       "      <th>242</th>\n",
       "      <td>243</td>\n",
       "      <td>Aqueduct - North Conduit Av</td>\n",
       "      <td>A</td>\n",
       "      <td>-73.83405799948723</td>\n",
       "      <td>40.668234001699815</td>\n",
       "    </tr>\n",
       "    <tr>\n",
       "      <th>200</th>\n",
       "      <td>201</td>\n",
       "      <td>Pelham Bay Park</td>\n",
       "      <td>6-6 Express</td>\n",
       "      <td>-73.82812100059289</td>\n",
       "      <td>40.85246199951662</td>\n",
       "    </tr>\n",
       "    <tr>\n",
       "      <th>415</th>\n",
       "      <td>416</td>\n",
       "      <td>City Hall</td>\n",
       "      <td>R-W</td>\n",
       "      <td>-74.00698581780337</td>\n",
       "      <td>40.71327233111697</td>\n",
       "    </tr>\n",
       "    <tr>\n",
       "      <th>162</th>\n",
       "      <td>163</td>\n",
       "      <td>81st St</td>\n",
       "      <td>A-B-C</td>\n",
       "      <td>-73.97209794937208</td>\n",
       "      <td>40.78134608418206</td>\n",
       "    </tr>\n",
       "    <tr>\n",
       "      <th>169</th>\n",
       "      <td>170</td>\n",
       "      <td>116th St</td>\n",
       "      <td>2-3</td>\n",
       "      <td>-73.94962500096905</td>\n",
       "      <td>40.802097999133004</td>\n",
       "    </tr>\n",
       "  </tbody>\n",
       "</table>\n",
       "</div>"
      ],
      "text/plain": [
       "     key                         name         LINE                 lon  \\\n",
       "242  243  Aqueduct - North Conduit Av            A  -73.83405799948723   \n",
       "200  201              Pelham Bay Park  6-6 Express  -73.82812100059289   \n",
       "415  416                    City Hall          R-W  -74.00698581780337   \n",
       "162  163                      81st St        A-B-C  -73.97209794937208   \n",
       "169  170                     116th St          2-3  -73.94962500096905   \n",
       "\n",
       "                    lat  \n",
       "242  40.668234001699815  \n",
       "200   40.85246199951662  \n",
       "415   40.71327233111697  \n",
       "162   40.78134608418206  \n",
       "169  40.802097999133004  "
      ]
     },
     "execution_count": 5,
     "metadata": {},
     "output_type": "execute_result"
    }
   ],
   "source": [
    "stations = s.read_mta_stations()\n",
    "stations.sample(5)"
   ]
  },
  {
   "cell_type": "code",
   "execution_count": null,
   "metadata": {},
   "outputs": [],
   "source": []
  }
 ],
 "metadata": {
  "kernelspec": {
   "display_name": "Python 3",
   "language": "python",
   "name": "python3"
  },
  "language_info": {
   "codemirror_mode": {
    "name": "ipython",
    "version": 3
   },
   "file_extension": ".py",
   "mimetype": "text/x-python",
   "name": "python",
   "nbconvert_exporter": "python",
   "pygments_lexer": "ipython3",
   "version": "3.6.5"
  }
 },
 "nbformat": 4,
 "nbformat_minor": 2
}
