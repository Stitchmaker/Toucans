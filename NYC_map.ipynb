{
 "cells": [
  {
   "cell_type": "code",
   "execution_count": 3,
   "metadata": {},
   "outputs": [],
   "source": [
    "#Hack to fix missing PROJ4 env var\n",
    "import os\n",
    "import conda\n",
    "import random\n",
    "\n",
    "conda_file_dir = conda.__file__\n",
    "conda_dir = conda_file_dir.split('lib')[0]\n",
    "proj_lib = os.path.join(os.path.join(conda_dir, 'share'), 'proj')\n",
    "os.environ[\"PROJ_LIB\"] = proj_lib"
   ]
  },
  {
   "cell_type": "code",
   "execution_count": 4,
   "metadata": {},
   "outputs": [
    {
     "ename": "FileNotFoundError",
     "evalue": "[Errno 2] No such file or directory: '/anaconda3/share/proj/epsg'",
     "output_type": "error",
     "traceback": [
      "\u001b[0;31m---------------------------------------------------------------------------\u001b[0m",
      "\u001b[0;31mFileNotFoundError\u001b[0m                         Traceback (most recent call last)",
      "\u001b[0;32m<ipython-input-4-43735b473f64>\u001b[0m in \u001b[0;36m<module>\u001b[0;34m()\u001b[0m\n\u001b[0;32m----> 1\u001b[0;31m \u001b[0;32mfrom\u001b[0m \u001b[0mmpl_toolkits\u001b[0m\u001b[0;34m.\u001b[0m\u001b[0mbasemap\u001b[0m \u001b[0;32mimport\u001b[0m \u001b[0mBasemap\u001b[0m\u001b[0;34m\u001b[0m\u001b[0m\n\u001b[0m\u001b[1;32m      2\u001b[0m \u001b[0;32mimport\u001b[0m \u001b[0mmatplotlib\u001b[0m\u001b[0;34m.\u001b[0m\u001b[0mpyplot\u001b[0m \u001b[0;32mas\u001b[0m \u001b[0mplt\u001b[0m\u001b[0;34m\u001b[0m\u001b[0m\n\u001b[1;32m      3\u001b[0m \u001b[0;32mimport\u001b[0m \u001b[0mnumpy\u001b[0m \u001b[0;32mas\u001b[0m \u001b[0mnp\u001b[0m\u001b[0;34m\u001b[0m\u001b[0m\n\u001b[1;32m      4\u001b[0m \u001b[0;32mimport\u001b[0m \u001b[0mpandas\u001b[0m \u001b[0;32mas\u001b[0m \u001b[0mpd\u001b[0m\u001b[0;34m\u001b[0m\u001b[0m\n",
      "\u001b[0;32m/anaconda3/lib/python3.6/site-packages/mpl_toolkits/basemap/__init__.py\u001b[0m in \u001b[0;36m<module>\u001b[0;34m()\u001b[0m\n\u001b[1;32m    145\u001b[0m \u001b[0;31m# create dictionary that maps epsg codes to Basemap kwargs.\u001b[0m\u001b[0;34m\u001b[0m\u001b[0;34m\u001b[0m\u001b[0m\n\u001b[1;32m    146\u001b[0m \u001b[0mpyproj_datadir\u001b[0m \u001b[0;34m=\u001b[0m \u001b[0mos\u001b[0m\u001b[0;34m.\u001b[0m\u001b[0menviron\u001b[0m\u001b[0;34m[\u001b[0m\u001b[0;34m'PROJ_LIB'\u001b[0m\u001b[0;34m]\u001b[0m\u001b[0;34m\u001b[0m\u001b[0m\n\u001b[0;32m--> 147\u001b[0;31m \u001b[0mepsgf\u001b[0m \u001b[0;34m=\u001b[0m \u001b[0mopen\u001b[0m\u001b[0;34m(\u001b[0m\u001b[0mos\u001b[0m\u001b[0;34m.\u001b[0m\u001b[0mpath\u001b[0m\u001b[0;34m.\u001b[0m\u001b[0mjoin\u001b[0m\u001b[0;34m(\u001b[0m\u001b[0mpyproj_datadir\u001b[0m\u001b[0;34m,\u001b[0m\u001b[0;34m'epsg'\u001b[0m\u001b[0;34m)\u001b[0m\u001b[0;34m)\u001b[0m\u001b[0;34m\u001b[0m\u001b[0m\n\u001b[0m\u001b[1;32m    148\u001b[0m \u001b[0mepsg_dict\u001b[0m\u001b[0;34m=\u001b[0m\u001b[0;34m{\u001b[0m\u001b[0;34m}\u001b[0m\u001b[0;34m\u001b[0m\u001b[0m\n\u001b[1;32m    149\u001b[0m \u001b[0;32mfor\u001b[0m \u001b[0mline\u001b[0m \u001b[0;32min\u001b[0m \u001b[0mepsgf\u001b[0m\u001b[0;34m:\u001b[0m\u001b[0;34m\u001b[0m\u001b[0m\n",
      "\u001b[0;31mFileNotFoundError\u001b[0m: [Errno 2] No such file or directory: '/anaconda3/share/proj/epsg'"
     ]
    }
   ],
   "source": [
    "from mpl_toolkits.basemap import Basemap\n",
    "import matplotlib.pyplot as plt\n",
    "import numpy as np\n",
    "import pandas as pd"
   ]
  },
  {
   "cell_type": "code",
   "execution_count": null,
   "metadata": {},
   "outputs": [],
   "source": [
    "# function to read lat/lon for companies - should have imported the .py file but...\n",
    "def read_tech_companies():\n",
    "    ''' Data frame of 10 tech companies\n",
    "    return pd.DataFrame(tech_company_name, lattitude, longitude)\n",
    "    '''\n",
    "    companies = pd.read_csv(\"tech_companies.csv\")\n",
    "    companies.drop(['ADDRESS'], axis=1, inplace=True)\n",
    "    \n",
    "    return(companies)"
   ]
  },
  {
   "cell_type": "code",
   "execution_count": null,
   "metadata": {},
   "outputs": [],
   "source": [
    "# function to read lat/lon for stations - should have imported the .py file but...\n",
    "\n",
    "def read_mta_stations():\n",
    "    ''' Read the MTA master list into a pd.DataFrame (Put the CSV file on the repository!!)\n",
    "    data source = https://data.cityofnewyork.us/Transportation/Subway-Stations/arq3-7z49 (export data as csv)\n",
    "    '''\n",
    "    df = pd.read_csv(\"mta_stations.csv\")\n",
    "    df.rename(columns = {\"OBJECTID\": \"key\", \"NAME\":\"name\", \"the_geom\":\"location\"}, inplace = True)\n",
    "    \n",
    "    df[\"lon\"] = df.location.str.split().str.get(1).str.strip('(')\n",
    "    df[\"lat\"] = df.location.str.split().str.get(2).str.strip(')')\n",
    "    df = df[[\"key\",\"name\",\"LINE\",\"lon\",\"lat\"]]\n",
    "    df = df.sort_values([\"name\",\"LINE\"], ascending = [True, True])\n",
    "    \n",
    "    return df\n",
    "    \n",
    "    '''\n",
    "    return pd.DataFrame (columns = [station (unique), lattitude, longitude])\n",
    "    '''"
   ]
  },
  {
   "cell_type": "code",
   "execution_count": null,
   "metadata": {},
   "outputs": [],
   "source": [
    "# set the data up for companies\n",
    "companies = read_tech_companies()\n",
    "\n",
    "comp_lat = []\n",
    "comp_lon = []\n",
    "comp_labels = []\n",
    "for index, row in companies.iterrows():\n",
    "    comp_lat.append(row['LAT'])\n",
    "    comp_lon.append(row['LON'])\n",
    "    comp_labels.append(row['COMPANY'])"
   ]
  },
  {
   "cell_type": "code",
   "execution_count": null,
   "metadata": {},
   "outputs": [],
   "source": [
    "# set the data up for the stations\n",
    "stations = read_mta_stations()\n",
    "\n",
    "sta_lat = []\n",
    "sta_lon = []\n",
    "sta_vol = []\n",
    "\n",
    "for index, row in stations.iterrows():\n",
    "    sta_lat.append(float(row['lat']))\n",
    "    sta_lon.append(float(row['lon']))\n",
    "    sta_vol.append(1.)\n",
    "    \n",
    "sta_vol[200]=2"
   ]
  },
  {
   "cell_type": "code",
   "execution_count": null,
   "metadata": {},
   "outputs": [],
   "source": [
    "'''\n",
    "Plots an outline of Manhattan with red dots on the stations and blue dots on the companies\n",
    "\n",
    "pass the following variables\n",
    "\n",
    "comp_lat      = list of lattitudes for companies\n",
    "comp_lon      = list of lattitudes for companies\n",
    "comp_labels   = list of labels for companies (not currently working)\n",
    "sta_lat       = list of lattitudes for stations\n",
    "sta_lon       = list of longitutes for stations\n",
    "\n",
    "'''\n",
    "\n",
    "def NYC_map(comp_lat,comp_lon,comp_labels,sta_lat,sta_lon,sta_vol):\n",
    "    map = Basemap(projection='merc', lat_0 = 40, lon_0 = -74,\n",
    "        resolution = 'h', area_thresh = 0.02,\n",
    "        llcrnrlon=-74.04, llcrnrlat=40.68,\n",
    "        urcrnrlon=-73.93, urcrnrlat=40.79)\n",
    "    \n",
    "# Make this plot larger.\n",
    "    plt.figure(figsize=(16,12))\n",
    "\n",
    "    map.drawcoastlines()\n",
    "    map.drawcountries()\n",
    "    map.fillcontinents(color = 'yellowgreen')\n",
    "    map.drawmapboundary()\n",
    "\n",
    "#plot the station points in red\n",
    "#    x_sta,y_sta = map(sta_lon, sta_lat)\n",
    "#    map.plot(x_sta, y_sta, 'bo',color='r', markersize=7,label='Stations')\n",
    "\n",
    "#plot the station points in red with circle varying by station volume\n",
    "    x_sta,y_sta = map(sta_lon, sta_lat)\n",
    "    max_dot_size = 15\n",
    "    dot_factor = max_dot_size/max(sta_vol)\n",
    "    \n",
    "    for i in range(len(x_sta)):\n",
    "        xpt = x_sta[i]\n",
    "        ypt = y_sta[i]\n",
    "        mark = int(sta_vol[i]*dot_factor)\n",
    "        map.plot(xpt, ypt, 'bo',color='r', markersize=mark)\n",
    "\n",
    "    \n",
    "#plot the company points in blue\n",
    "    x_comp,y_comp = map(comp_lon, comp_lat)\n",
    "    map.plot(x_comp, y_comp, 'bo',color='b', markersize=7, label='Companies')\n",
    "\n",
    "#create a legend and title\n",
    "    plt.legend(loc='lower right')\n",
    "    title_string = \"Companies & Stations in NYC\"\n",
    "    plt.title(title_string)\n",
    "\n",
    "# plot company labels\n",
    "#    for label, xpt, ypt in zip(comp_labels, x_comp, y_comp):\n",
    "#        plt.text(xpt, ypt, label)\n",
    "\n",
    "#    plt.text(comp_labels[0],x_comp[0],y_comp[0])\n",
    "    \n",
    "    plt.show()\n",
    "    return"
   ]
  },
  {
   "cell_type": "code",
   "execution_count": null,
   "metadata": {},
   "outputs": [],
   "source": [
    "# plot all of the companies and all of the labels\n",
    "NYC_map(comp_lat,comp_lon,comp_labels,sta_lat,sta_lon,sta_vol)\n"
   ]
  },
  {
   "cell_type": "code",
   "execution_count": null,
   "metadata": {},
   "outputs": [],
   "source": [
    "print(comp_lat[0],comp_lon[0],comp_labels[0],sta_lat[10],sta_lon[10],sta_vol[10])"
   ]
  },
  {
   "cell_type": "code",
   "execution_count": null,
   "metadata": {},
   "outputs": [],
   "source": [
    "# plot just the 0th company and the 10th station\n",
    "\n",
    "NYC_map(comp_lat[0],comp_lon[0],comp_labels[0],sta_lat[10],sta_lon[10],sta_vol[10])\n"
   ]
  },
  {
   "cell_type": "code",
   "execution_count": null,
   "metadata": {},
   "outputs": [],
   "source": [
    "# read the station_companies.csv file for values to plot\n",
    "stations1 = pd.read_csv(\"station_companies.csv\")\n",
    "#    df.rename(columns = {\"OBJECTID\": \"key\", \"NAME\":\"name\", \"the_geom\":\"location\"}, inplace = True)\n",
    "    \n",
    "#    df[\"lon\"] = df.location.str.split().str.get(1).str.strip('(')\n",
    "#    df[\"lat\"] = df.location.str.split().str.get(2).str.strip(')')\n",
    "#    df = df[[\"key\",\"name\",\"LINE\",\"lon\",\"lat\"]]\n",
    "#    df = df.sort_values([\"name\",\"LINE\"], ascending = [True, True])\n",
    "stations1.dropna(inplace=True)\n",
    "\n",
    "sta_lat = []\n",
    "sta_lon = []\n",
    "sta_vol = []\n",
    "\n",
    "for index, row in stations1.iterrows():\n",
    "    sta_lat.append(float(row['lat']))\n",
    "    sta_lon.append(float(row['lon']))\n",
    "    sta_vol.append(float(row['max_entries']))\n",
    "    \n",
    "NYC_map(comp_lat,comp_lon,comp_labels,sta_lat,sta_lon,sta_vol)\n"
   ]
  },
  {
   "cell_type": "code",
   "execution_count": null,
   "metadata": {},
   "outputs": [],
   "source": []
  }
 ],
 "metadata": {
  "kernelspec": {
   "display_name": "Python 3",
   "language": "python",
   "name": "python3"
  },
  "language_info": {
   "codemirror_mode": {
    "name": "ipython",
    "version": 3
   },
   "file_extension": ".py",
   "mimetype": "text/x-python",
   "name": "python",
   "nbconvert_exporter": "python",
   "pygments_lexer": "ipython3",
   "version": "3.6.5"
  }
 },
 "nbformat": 4,
 "nbformat_minor": 2
}
